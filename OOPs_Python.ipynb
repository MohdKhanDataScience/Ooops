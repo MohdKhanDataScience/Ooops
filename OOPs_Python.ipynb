{
 "cells": [
  {
   "cell_type": "markdown",
   "metadata": {},
   "source": [
    "# Creating Class and Object:"
   ]
  },
  {
   "cell_type": "code",
   "execution_count": 1,
   "metadata": {},
   "outputs": [
    {
     "name": "stdout",
     "output_type": "stream",
     "text": [
      "init method called\n",
      "Student Name is: khan And Student age is: 23\n"
     ]
    }
   ],
   "source": [
    "class Student:   #Class\n",
    "    \n",
    "    def __init__(self,name,age):  # Here name&age is Parameters\n",
    "        \n",
    "        print('init method called')\n",
    "        \n",
    "        self.name=name  #Instance variable\n",
    "        \n",
    "        self.age=age\n",
    "        \n",
    "    def show(self): #Instance Method\n",
    "        \n",
    "        print('Student Name is:',self.name,'And Student age is:',self.age)\n",
    "        \n",
    "std=Student('khan',23)  #Object Class\n",
    "\n",
    "std.show()"
   ]
  },
  {
   "cell_type": "markdown",
   "metadata": {},
   "source": [
    "# Class"
   ]
  },
  {
   "cell_type": "code",
   "execution_count": 2,
   "metadata": {},
   "outputs": [
    {
     "name": "stdout",
     "output_type": "stream",
     "text": [
      "Init metod called\n",
      "Init metod called\n",
      "virat\n",
      "kohli\n",
      "31\n",
      "virat kohli 31\n"
     ]
    }
   ],
   "source": [
    "class Person:\n",
    "    \n",
    "    def __init__(self,first_name,Last_name,age):\n",
    "        \n",
    "        print('Init metod called')\n",
    "        self.first_name=first_name  #Instance Variable\n",
    "        self.Last_name=Last_name\n",
    "        self.age=age\n",
    "        \n",
    "p1=Person('virat','kohli',31)  #Object\n",
    "p2=Person('rohit','sherma',33)\n",
    "print(p1.first_name)\n",
    "print(p1.Last_name)\n",
    "print(p1.age)\n",
    "print(p1.first_name,p1.Last_name,p1.age)"
   ]
  },
  {
   "cell_type": "markdown",
   "metadata": {},
   "source": [
    "# Class Variable:"
   ]
  },
  {
   "cell_type": "code",
   "execution_count": 3,
   "metadata": {},
   "outputs": [
    {
     "name": "stdout",
     "output_type": "stream",
     "text": [
      "Department is: IT\n",
      "Class Variable: IT\n"
     ]
    }
   ],
   "source": [
    "class empo:\n",
    "    \n",
    "    department='IT'  #Class Variable\n",
    "    \n",
    "    def show(self):  #Instance Method\n",
    "        print('Department is:',self.department)\n",
    "        \n",
    "emp=empo()  #Objet\n",
    "emp.show()\n",
    "print('Class Variable:',empo.department)"
   ]
  },
  {
   "cell_type": "markdown",
   "metadata": {},
   "source": [
    "# Class Method:"
   ]
  },
  {
   "cell_type": "markdown",
   "metadata": {},
   "source": [
    "Generaly Class Method is used to access the class variable,Otherwise we can't access."
   ]
  },
  {
   "cell_type": "code",
   "execution_count": 4,
   "metadata": {},
   "outputs": [
    {
     "name": "stdout",
     "output_type": "stream",
     "text": [
      "You have created 3 of Person Class\n",
      "\n"
     ]
    }
   ],
   "source": [
    "class Person:\n",
    "    count_instance=0    #Class variable/Class Attribute\n",
    "    \n",
    "    def __init__(self,First_name,Last_name,age):\n",
    "        Person.count_instance +=1\n",
    "        self.First_name=First_name\n",
    "        self.Last_name=Last_name\n",
    "        self.age=age\n",
    "        \n",
    "    @classmethod   #Class Method\n",
    "    \n",
    "    def count_instances(cls):\n",
    "        return f\"You have created {cls.count_instance} of Person Class\"\n",
    "    def Full_name(self):\n",
    "        return f\"{self.First_name}{self.Last_name}\"\n",
    "    \n",
    "    def age_above_18(self):\n",
    "        return self.age>18\n",
    "    \n",
    "P1=Person('Mohd','Khan',23)\n",
    "P2=Person('Rajesh','Gupta',26)\n",
    "P3=Person('Wasi','rab',24)\n",
    "print(Person.count_instances())\n",
    "print()"
   ]
  },
  {
   "cell_type": "markdown",
   "metadata": {},
   "source": [
    "# Static Method:"
   ]
  },
  {
   "cell_type": "markdown",
   "metadata": {},
   "source": [
    "A static method is also a method that is bound to the class and not the object of the class. \n",
    "A static method can't access or modify the class state."
   ]
  },
  {
   "cell_type": "code",
   "execution_count": 5,
   "metadata": {},
   "outputs": [
    {
     "name": "stdout",
     "output_type": "stream",
     "text": [
      "You have created 3 of Person Class\n",
      "Hello,static method called\n"
     ]
    }
   ],
   "source": [
    "class Person:\n",
    "    count_instance=0    #Class variable/Class Attribute\n",
    "    \n",
    "    def __init__(self,First_name,Last_name,age):\n",
    "        Person.count_instance +=1\n",
    "        self.First_name=First_name\n",
    "        self.Last_name=Last_name\n",
    "        self.age=age\n",
    "        \n",
    "    @classmethod   #Class Method as a constructor\n",
    "    \n",
    "    def from_string(cls,string):\n",
    "        First,Last,age=string.split(',')\n",
    "        return cls(First,Last,age)\n",
    "    \n",
    "    @classmethod   #class method\n",
    "    \n",
    "    def count_instances(cls):\n",
    "        return f\"You have created {cls.count_instance} of Person Class\"\n",
    "    \n",
    "    @staticmethod #static method\n",
    "    \n",
    "    def hello():\n",
    "        print('Hello,static method called')\n",
    "    \n",
    "    def Full_name(self):\n",
    "        return f\"{self.First_name}{self.Last_name}\"\n",
    "    \n",
    "    def age_above_18(self):\n",
    "        return self.age>18\n",
    "    \n",
    "P1=Person('Mohd','Khan',23)\n",
    "P2=Person('Rajesh','Gupta',26)\n",
    "P3=Person('Wasi','rab',24)\n",
    "print(Person.count_instances())\n",
    "Person.hello()"
   ]
  },
  {
   "cell_type": "markdown",
   "metadata": {},
   "source": [
    "# Abstraction\n",
    "# Encapsulation"
   ]
  },
  {
   "cell_type": "code",
   "execution_count": 6,
   "metadata": {},
   "outputs": [
    {
     "name": "stdout",
     "output_type": "stream",
     "text": [
      "vivoY51L\n"
     ]
    }
   ],
   "source": [
    "class Phone:\n",
    "    def __init__(self,brand,model_name,price):\n",
    "        \n",
    "        self.brand=brand\n",
    "        self.model_name=model_name\n",
    "        self.price=price\n",
    "        \n",
    "    def make_a_call(self, phone_number):\n",
    "        print(f'calling {phone_number}')\n",
    "    \n",
    "    def full_name(self):\n",
    "        return f\"{self.brand}{self.model_name}\"\n",
    "P=Phone('vivo','Y51L',10000)\n",
    "print(P.full_name())"
   ]
  },
  {
   "cell_type": "markdown",
   "metadata": {},
   "source": [
    "# Inheritance:"
   ]
  },
  {
   "cell_type": "markdown",
   "metadata": {},
   "source": [
    "1.single Inheritance"
   ]
  },
  {
   "cell_type": "code",
   "execution_count": 7,
   "metadata": {},
   "outputs": [
    {
     "name": "stdout",
     "output_type": "stream",
     "text": [
      "Inside vehicle class\n",
      "Inside car class\n"
     ]
    }
   ],
   "source": [
    "class vehicle:\n",
    "    def vehicle_info(self):\n",
    "        print('Inside vehicle class')\n",
    "class car(vehicle):\n",
    "    def car_info(self):\n",
    "        print('Inside car class')\n",
    "\n",
    "car=car()\n",
    "car.vehicle_info()\n",
    "car.car_info()"
   ]
  },
  {
   "cell_type": "markdown",
   "metadata": {},
   "source": [
    "2.Multiple Inheritance"
   ]
  },
  {
   "cell_type": "code",
   "execution_count": 8,
   "metadata": {},
   "outputs": [
    {
     "name": "stdout",
     "output_type": "stream",
     "text": [
      "Inside Person class\n",
      "Name: Jessa Age: 28\n",
      "Inside Company class\n",
      "Name: Google location: Atlanta\n",
      "Inside Employee class\n",
      "Salary: 12000 Skill: Machine Learning\n"
     ]
    }
   ],
   "source": [
    "class Person:  #Parent class 1\n",
    "    def person_info(self, name, age):\n",
    "        print('Inside Person class')\n",
    "        print('Name:', name, 'Age:', age)\n",
    "        \n",
    "class Company:  #Parent class 2\n",
    "    def company_info(self, company_name, location):\n",
    "        print('Inside Company class')\n",
    "        print('Name:', company_name, 'location:', location)\n",
    "        \n",
    "class Employee(Person, Company):  #Child Class\n",
    "    def Employee_info(self, salary, skill):\n",
    "        print('Inside Employee class')\n",
    "        print('Salary:', salary, 'Skill:', skill)\n",
    "\n",
    "emp = Employee()\n",
    "\n",
    "# access data\n",
    "emp.person_info('Jessa', 28)\n",
    "emp.company_info('Google', 'Atlanta')\n",
    "emp.Employee_info(12000, 'Machine Learning')"
   ]
  },
  {
   "cell_type": "markdown",
   "metadata": {},
   "source": [
    "3.Multilevel inheritance"
   ]
  },
  {
   "cell_type": "code",
   "execution_count": 9,
   "metadata": {},
   "outputs": [
    {
     "name": "stdout",
     "output_type": "stream",
     "text": [
      "Inside Vehicle class\n",
      "Inside Car class\n",
      "Inside SportsCar class\n"
     ]
    }
   ],
   "source": [
    "#Base class\n",
    "class Vehicle:\n",
    "    def Vehicle_info(self):\n",
    "        print('Inside Vehicle class')\n",
    "\n",
    "# Child class 1\n",
    "class Car(Vehicle):\n",
    "    def car_info(self):\n",
    "        print('Inside Car class')\n",
    "\n",
    "# Child class 2\n",
    "class SportsCar(Car):\n",
    "    def sports_car_info(self):\n",
    "        print('Inside SportsCar class')\n",
    "\n",
    "# Create object of SportsCar\n",
    "s_car = SportsCar()\n",
    "\n",
    "# access Vehicle's and Car info using SportsCar object\n",
    "s_car.Vehicle_info()\n",
    "s_car.car_info()\n",
    "s_car.sports_car_info()\n"
   ]
  },
  {
   "cell_type": "markdown",
   "metadata": {},
   "source": [
    "4.Hierarchical Inheritance"
   ]
  },
  {
   "cell_type": "code",
   "execution_count": 10,
   "metadata": {},
   "outputs": [
    {
     "name": "stdout",
     "output_type": "stream",
     "text": [
      "This is Vehicle\n",
      "Car name is: BMW\n",
      "This is Vehicle\n",
      "Truck name is: Ford\n"
     ]
    }
   ],
   "source": [
    "class Vehicle:\n",
    "    def info(self):\n",
    "        print(\"This is Vehicle\")\n",
    "\n",
    "class Car(Vehicle):\n",
    "    def car_info(self, name):\n",
    "        print(\"Car name is:\", name)\n",
    "\n",
    "class Truck(Vehicle):\n",
    "    def truck_info(self, name):\n",
    "        print(\"Truck name is:\", name)\n",
    "\n",
    "obj1 = Car()\n",
    "obj1.info()\n",
    "obj1.car_info('BMW')\n",
    "\n",
    "obj2 = Truck()\n",
    "obj2.info()\n",
    "obj2.truck_info('Ford')"
   ]
  },
  {
   "cell_type": "markdown",
   "metadata": {},
   "source": [
    "5.Hybrid Inheritance"
   ]
  },
  {
   "cell_type": "code",
   "execution_count": 11,
   "metadata": {},
   "outputs": [
    {
     "name": "stdout",
     "output_type": "stream",
     "text": [
      "Inside Vehicle class\n",
      "Inside Car class\n",
      "Inside SportsCar class\n"
     ]
    }
   ],
   "source": [
    "class Vehicle:\n",
    "    def vehicle_info(self):\n",
    "        print(\"Inside Vehicle class\")\n",
    "\n",
    "class Car(Vehicle):\n",
    "    def car_info(self):\n",
    "        print(\"Inside Car class\")\n",
    "\n",
    "class Truck(Vehicle):\n",
    "    def truck_info(self):\n",
    "        print(\"Inside Truck class\")\n",
    "\n",
    "# Sports Car can inherits properties of Vehicle and Car\n",
    "class SportsCar(Car, Vehicle):\n",
    "    def sports_car_info(self):\n",
    "        print(\"Inside SportsCar class\")\n",
    "\n",
    "# create object\n",
    "s_car = SportsCar()\n",
    "\n",
    "s_car.vehicle_info()\n",
    "s_car.car_info()\n",
    "s_car.sports_car_info()\n"
   ]
  },
  {
   "cell_type": "markdown",
   "metadata": {},
   "source": [
    "# Method Overriding"
   ]
  },
  {
   "cell_type": "code",
   "execution_count": 12,
   "metadata": {},
   "outputs": [
    {
     "name": "stdout",
     "output_type": "stream",
     "text": [
      "max speed is 200 Km/Hour\n"
     ]
    }
   ],
   "source": [
    "class Vehicle:\n",
    "    def max_speed(self):\n",
    "        print(\"max speed is 100 Km/Hour\")\n",
    "\n",
    "class Car(Vehicle):\n",
    "    # overridden the implementation of Vehicle class\n",
    "    def max_speed(self):\n",
    "        print(\"max speed is 200 Km/Hour\")\n",
    "\n",
    "# Creating object of Car class\n",
    "car = Car()\n",
    "car.max_speed()\n"
   ]
  },
  {
   "cell_type": "markdown",
   "metadata": {},
   "source": [
    "# Operator Overloading"
   ]
  },
  {
   "cell_type": "code",
   "execution_count": 13,
   "metadata": {},
   "outputs": [
    {
     "name": "stdout",
     "output_type": "stream",
     "text": [
      "Total Number of pages: 250\n"
     ]
    }
   ],
   "source": [
    "class Book:\n",
    "    def __init__(self, pages):\n",
    "        self.pages = pages\n",
    "\n",
    "    def __add__(self, other):\n",
    "        return self.pages + other.pages\n",
    "\n",
    "b1 = Book(150)\n",
    "b2 = Book(100)\n",
    "print(\"Total Number of pages:\", b1 + b2)"
   ]
  },
  {
   "cell_type": "markdown",
   "metadata": {},
   "source": [
    "# Polymorphism"
   ]
  },
  {
   "cell_type": "code",
   "execution_count": 14,
   "metadata": {},
   "outputs": [
    {
     "name": "stdout",
     "output_type": "stream",
     "text": [
      "Area of circle : 78.5\n",
      "Area of Rectangle : 50\n"
     ]
    }
   ],
   "source": [
    "class Circle:\n",
    "    pi = 3.14\n",
    "\n",
    "    def __init__(self, redius):\n",
    "        self.radius = redius\n",
    "\n",
    "    def calculate_area(self):\n",
    "        print(\"Area of circle :\", self.pi * self.radius * self.radius)\n",
    "\n",
    "class Rectangle:\n",
    "    def __init__(self, length, width):\n",
    "        self.length = length\n",
    "        self.width = width\n",
    "\n",
    "    def calculate_area(self):\n",
    "        print(\"Area of Rectangle :\", self.length * self.width)\n",
    "\n",
    "cir = Circle(5)\n",
    "rect = Rectangle(10, 5)\n",
    "cir.calculate_area()\n",
    "rect.calculate_area()"
   ]
  },
  {
   "cell_type": "code",
   "execution_count": null,
   "metadata": {},
   "outputs": [],
   "source": []
  }
 ],
 "metadata": {
  "kernelspec": {
   "display_name": "Python 3",
   "language": "python",
   "name": "python3"
  },
  "language_info": {
   "codemirror_mode": {
    "name": "ipython",
    "version": 3
   },
   "file_extension": ".py",
   "mimetype": "text/x-python",
   "name": "python",
   "nbconvert_exporter": "python",
   "pygments_lexer": "ipython3",
   "version": "3.7.4"
  }
 },
 "nbformat": 4,
 "nbformat_minor": 2
}
